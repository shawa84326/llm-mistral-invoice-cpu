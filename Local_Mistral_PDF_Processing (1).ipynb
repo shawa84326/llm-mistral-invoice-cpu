{
  "nbformat": 4,
  "nbformat_minor": 0,
  "metadata": {
    "colab": {
      "provenance": []
    },
    "kernelspec": {
      "name": "python3",
      "display_name": "Python 3"
    },
    "language_info": {
      "name": "python"
    }
  },
  "cells": [
    {
      "cell_type": "markdown",
      "source": [
        "# Clone the Katana ML `llm-mistral-invoice-cpu` Project"
      ],
      "metadata": {
        "id": "DnDsmKegTWN2"
      }
    },
    {
      "cell_type": "code",
      "execution_count": 10,
      "metadata": {
        "colab": {
          "base_uri": "https://localhost:8080/"
        },
        "id": "3rHPmILRRmTJ",
        "outputId": "925d9abc-4bad-4606-e845-c081e0b6c3f5"
      },
      "outputs": [
        {
          "output_type": "stream",
          "name": "stdout",
          "text": [
            "Cloning into 'llm-mistral-invoice-cpu'...\n",
            "remote: Enumerating objects: 38, done.\u001b[K\n",
            "remote: Counting objects: 100% (38/38), done.\u001b[K\n",
            "remote: Compressing objects: 100% (33/33), done.\u001b[K\n",
            "remote: Total 38 (delta 3), reused 0 (delta 0), pack-reused 0\u001b[K\n",
            "Receiving objects: 100% (38/38), 121.24 KiB | 2.47 MiB/s, done.\n",
            "Resolving deltas: 100% (3/3), done.\n"
          ]
        }
      ],
      "source": [
        "! git clone https://github.com/shawa84326/llm-mistral-invoice-cpu"
      ]
    },
    {
      "cell_type": "markdown",
      "source": [
        "# Enter the `llm-mistral-invoice-cpu` folder"
      ],
      "metadata": {
        "id": "NOJM1TuQTraR"
      }
    },
    {
      "cell_type": "code",
      "source": [
        "%cd llm-mistral-invoice-cpu"
      ],
      "metadata": {
        "colab": {
          "base_uri": "https://localhost:8080/"
        },
        "id": "fCD0Zh1RSMMq",
        "outputId": "c1bbcd03-00c7-465e-9878-56bd64c4c4e3"
      },
      "execution_count": 2,
      "outputs": [
        {
          "output_type": "stream",
          "name": "stdout",
          "text": [
            "/content/llm-mistral-invoice-cpu\n"
          ]
        }
      ]
    },
    {
      "cell_type": "markdown",
      "source": [
        "# Install all the required Python libraries"
      ],
      "metadata": {
        "id": "rXjm_75wTtUJ"
      }
    },
    {
      "cell_type": "code",
      "source": [
        "!pip install -r requirements.txt -q"
      ],
      "metadata": {
        "colab": {
          "base_uri": "https://localhost:8080/"
        },
        "id": "mdcvvd29SPFA",
        "outputId": "0101c715-40bc-4bce-fa5b-c480562a07ff"
      },
      "execution_count": 3,
      "outputs": [
        {
          "output_type": "stream",
          "name": "stdout",
          "text": [
            "\u001b[2K     \u001b[90m━━━━━━━━━━━━━━━━━━━━━━━━━━━━━━━━━━━━━━━━\u001b[0m \u001b[32m9.9/9.9 MB\u001b[0m \u001b[31m26.1 MB/s\u001b[0m eta \u001b[36m0:00:00\u001b[0m\n",
            "\u001b[2K     \u001b[90m━━━━━━━━━━━━━━━━━━━━━━━━━━━━━━━━━━━━━━━━\u001b[0m \u001b[32m17.6/17.6 MB\u001b[0m \u001b[31m45.2 MB/s\u001b[0m eta \u001b[36m0:00:00\u001b[0m\n",
            "\u001b[2K     \u001b[90m━━━━━━━━━━━━━━━━━━━━━━━━━━━━━━━━━━━━━━━━\u001b[0m \u001b[32m2.0/2.0 MB\u001b[0m \u001b[31m62.3 MB/s\u001b[0m eta \u001b[36m0:00:00\u001b[0m\n",
            "\u001b[2K     \u001b[90m━━━━━━━━━━━━━━━━━━━━━━━━━━━━━━━━━━━━━━━━\u001b[0m \u001b[32m284.0/284.0 kB\u001b[0m \u001b[31m23.4 MB/s\u001b[0m eta \u001b[36m0:00:00\u001b[0m\n",
            "\u001b[2K     \u001b[90m━━━━━━━━━━━━━━━━━━━━━━━━━━━━━━━━━━━━━━━━\u001b[0m \u001b[32m132.8/132.8 kB\u001b[0m \u001b[31m13.1 MB/s\u001b[0m eta \u001b[36m0:00:00\u001b[0m\n",
            "\u001b[2K     \u001b[90m━━━━━━━━━━━━━━━━━━━━━━━━━━━━━━━━━━━━━━━━\u001b[0m \u001b[32m55.4/55.4 kB\u001b[0m \u001b[31m6.2 MB/s\u001b[0m eta \u001b[36m0:00:00\u001b[0m\n",
            "\u001b[2K     \u001b[90m━━━━━━━━━━━━━━━━━━━━━━━━━━━━━━━━━━━━━━━━\u001b[0m \u001b[32m49.4/49.4 kB\u001b[0m \u001b[31m5.6 MB/s\u001b[0m eta \u001b[36m0:00:00\u001b[0m\n",
            "\u001b[?25h"
          ]
        }
      ]
    },
    {
      "cell_type": "markdown",
      "source": [
        "# Download the quantized LLM from HF Model Hub to run it Locally"
      ],
      "metadata": {
        "id": "3vD0RwdRTwOM"
      }
    },
    {
      "cell_type": "markdown",
      "source": [
        "I'm using 2-bit quantized model as Google Colab has just 12 GB RAM. If you have got a better machine, download better model!"
      ],
      "metadata": {
        "id": "ywdXbqb6IBf0"
      }
    },
    {
      "cell_type": "code",
      "source": [
        "!wget https://huggingface.co/TheBloke/Mistral-7B-Instruct-v0.1-GGUF/resolve/main/mistral-7b-instruct-v0.1.Q2_K.gguf -P models"
      ],
      "metadata": {
        "colab": {
          "base_uri": "https://localhost:8080/"
        },
        "id": "QqUe96tUSQ94",
        "outputId": "80b2bad8-0c50-40b6-9e79-7369f7902e27"
      },
      "execution_count": 4,
      "outputs": [
        {
          "output_type": "stream",
          "name": "stdout",
          "text": [
            "--2024-02-08 05:05:10--  https://huggingface.co/TheBloke/Mistral-7B-Instruct-v0.1-GGUF/resolve/main/mistral-7b-instruct-v0.1.Q2_K.gguf\n",
            "Resolving huggingface.co (huggingface.co)... 18.172.134.4, 18.172.134.124, 18.172.134.24, ...\n",
            "Connecting to huggingface.co (huggingface.co)|18.172.134.4|:443... connected.\n",
            "HTTP request sent, awaiting response... 302 Found\n",
            "Location: https://cdn-lfs.huggingface.co/repos/46/12/46124cd8d4788fd8e0879883abfc473f247664b987955cc98a08658f7df6b826/f27558927c82a62367ba29337af784d7502682c0fe01b2ca2a369fdaeaa61ea4?response-content-disposition=attachment%3B+filename*%3DUTF-8%27%27mistral-7b-instruct-v0.1.Q2_K.gguf%3B+filename%3D%22mistral-7b-instruct-v0.1.Q2_K.gguf%22%3B&Expires=1707627910&Policy=eyJTdGF0ZW1lbnQiOlt7IkNvbmRpdGlvbiI6eyJEYXRlTGVzc1RoYW4iOnsiQVdTOkVwb2NoVGltZSI6MTcwNzYyNzkxMH19LCJSZXNvdXJjZSI6Imh0dHBzOi8vY2RuLWxmcy5odWdnaW5nZmFjZS5jby9yZXBvcy80Ni8xMi80NjEyNGNkOGQ0Nzg4ZmQ4ZTA4Nzk4ODNhYmZjNDczZjI0NzY2NGI5ODc5NTVjYzk4YTA4NjU4ZjdkZjZiODI2L2YyNzU1ODkyN2M4MmE2MjM2N2JhMjkzMzdhZjc4NGQ3NTAyNjgyYzBmZTAxYjJjYTJhMzY5ZmRhZWFhNjFlYTQ%7EcmVzcG9uc2UtY29udGVudC1kaXNwb3NpdGlvbj0qIn1dfQ__&Signature=XSG8f1xNDzuroX6W0Bh95JbHyaBYppapTaKCGDHeuV%7EMnILrQwBKNaJQi5%7ED31B8JheqTL88UPG7OKsG8MeVFDsDfgm3w3PDokD1sMdz29486EObvEat1BMBGx1W0lUO%7E-%7EGd5jYOUwww2bFdLmuL6511MmOeJeEHCv3Ho-B0IXnwKm-i8Hhm4CNPy1OBEuPr4MdQjfXQXPXVoytN4IgT1ZYRhzO%7EZ4c8TTrv%7EisrTJzNgNLZsXSeK9bhts51frpKs56UJFzKoH4tcKoWLU5YXkNj7HuAlL3fG3PiOP40HXFMQfvD9Cs1hgpIyRp7N4YcRWsL05bSbwT6JIBjKySpA__&Key-Pair-Id=KVTP0A1DKRTAX [following]\n",
            "--2024-02-08 05:05:10--  https://cdn-lfs.huggingface.co/repos/46/12/46124cd8d4788fd8e0879883abfc473f247664b987955cc98a08658f7df6b826/f27558927c82a62367ba29337af784d7502682c0fe01b2ca2a369fdaeaa61ea4?response-content-disposition=attachment%3B+filename*%3DUTF-8%27%27mistral-7b-instruct-v0.1.Q2_K.gguf%3B+filename%3D%22mistral-7b-instruct-v0.1.Q2_K.gguf%22%3B&Expires=1707627910&Policy=eyJTdGF0ZW1lbnQiOlt7IkNvbmRpdGlvbiI6eyJEYXRlTGVzc1RoYW4iOnsiQVdTOkVwb2NoVGltZSI6MTcwNzYyNzkxMH19LCJSZXNvdXJjZSI6Imh0dHBzOi8vY2RuLWxmcy5odWdnaW5nZmFjZS5jby9yZXBvcy80Ni8xMi80NjEyNGNkOGQ0Nzg4ZmQ4ZTA4Nzk4ODNhYmZjNDczZjI0NzY2NGI5ODc5NTVjYzk4YTA4NjU4ZjdkZjZiODI2L2YyNzU1ODkyN2M4MmE2MjM2N2JhMjkzMzdhZjc4NGQ3NTAyNjgyYzBmZTAxYjJjYTJhMzY5ZmRhZWFhNjFlYTQ%7EcmVzcG9uc2UtY29udGVudC1kaXNwb3NpdGlvbj0qIn1dfQ__&Signature=XSG8f1xNDzuroX6W0Bh95JbHyaBYppapTaKCGDHeuV%7EMnILrQwBKNaJQi5%7ED31B8JheqTL88UPG7OKsG8MeVFDsDfgm3w3PDokD1sMdz29486EObvEat1BMBGx1W0lUO%7E-%7EGd5jYOUwww2bFdLmuL6511MmOeJeEHCv3Ho-B0IXnwKm-i8Hhm4CNPy1OBEuPr4MdQjfXQXPXVoytN4IgT1ZYRhzO%7EZ4c8TTrv%7EisrTJzNgNLZsXSeK9bhts51frpKs56UJFzKoH4tcKoWLU5YXkNj7HuAlL3fG3PiOP40HXFMQfvD9Cs1hgpIyRp7N4YcRWsL05bSbwT6JIBjKySpA__&Key-Pair-Id=KVTP0A1DKRTAX\n",
            "Resolving cdn-lfs.huggingface.co (cdn-lfs.huggingface.co)... 18.154.185.94, 18.154.185.27, 18.154.185.26, ...\n",
            "Connecting to cdn-lfs.huggingface.co (cdn-lfs.huggingface.co)|18.154.185.94|:443... connected.\n",
            "HTTP request sent, awaiting response... 200 OK\n",
            "Length: 3083097760 (2.9G) [binary/octet-stream]\n",
            "Saving to: ‘models/mistral-7b-instruct-v0.1.Q2_K.gguf’\n",
            "\n",
            "mistral-7b-instruct 100%[===================>]   2.87G   220MB/s    in 18s     \n",
            "\n",
            "2024-02-08 05:05:28 (162 MB/s) - ‘models/mistral-7b-instruct-v0.1.Q2_K.gguf’ saved [3083097760/3083097760]\n",
            "\n"
          ]
        }
      ]
    },
    {
      "cell_type": "markdown",
      "source": [
        "# Copy text PDF files to the data folder"
      ],
      "metadata": {
        "id": "9sx5PSTTT4MG"
      }
    },
    {
      "cell_type": "code",
      "source": [
        "!ls data/"
      ],
      "metadata": {
        "colab": {
          "base_uri": "https://localhost:8080/"
        },
        "id": "oFhXD1S2S1fN",
        "outputId": "9bc9ddfc-f7b4-47f8-df5c-db465fb05dc2"
      },
      "execution_count": 5,
      "outputs": [
        {
          "output_type": "stream",
          "name": "stdout",
          "text": [
            "invoice_1.pdf\n"
          ]
        }
      ]
    },
    {
      "cell_type": "markdown",
      "source": [
        "# Data Ingestion"
      ],
      "metadata": {
        "id": "BH7wiDw9T-r_"
      }
    },
    {
      "cell_type": "code",
      "source": [
        "!python ingest.py"
      ],
      "metadata": {
        "colab": {
          "base_uri": "https://localhost:8080/"
        },
        "id": "VTSbBMYKT6LZ",
        "outputId": "dc7e04f9-1ec2-46e4-b5aa-ad73cc4ad9f2"
      },
      "execution_count": 6,
      "outputs": [
        {
          "output_type": "stream",
          "name": "stdout",
          "text": [
            "\rmodules.json:   0% 0.00/349 [00:00<?, ?B/s]\rmodules.json: 100% 349/349 [00:00<00:00, 1.61MB/s]\n",
            "\rconfig_sentence_transformers.json:   0% 0.00/116 [00:00<?, ?B/s]\rconfig_sentence_transformers.json: 100% 116/116 [00:00<00:00, 461kB/s]\n",
            "README.md: 100% 10.6k/10.6k [00:00<00:00, 27.7MB/s]\n",
            "sentence_bert_config.json: 100% 53.0/53.0 [00:00<00:00, 249kB/s]\n",
            "config.json: 100% 571/571 [00:00<00:00, 2.78MB/s]\n",
            "pytorch_model.bin: 100% 438M/438M [00:02<00:00, 164MB/s]\n",
            "tokenizer_config.json: 100% 363/363 [00:00<00:00, 1.70MB/s]\n",
            "vocab.txt: 100% 232k/232k [00:00<00:00, 4.28MB/s]\n",
            "tokenizer.json: 100% 466k/466k [00:00<00:00, 6.03MB/s]\n",
            "special_tokens_map.json: 100% 239/239 [00:00<00:00, 1.03MB/s]\n",
            "1_Pooling/config.json: 100% 190/190 [00:00<00:00, 628kB/s]\n"
          ]
        }
      ]
    },
    {
      "cell_type": "markdown",
      "source": [
        "Q&A Time"
      ],
      "metadata": {
        "id": "h3sbMdCgUNlm"
      }
    },
    {
      "cell_type": "code",
      "source": [
        "! python3 main.py \"what is the name of the seller ?\"\n"
      ],
      "metadata": {
        "colab": {
          "base_uri": "https://localhost:8080/"
        },
        "id": "5kOi3zzuT_gW",
        "outputId": "20bf0e93-6abe-4003-e164-82a87d977d0f"
      },
      "execution_count": 8,
      "outputs": [
        {
          "output_type": "stream",
          "name": "stdout",
          "text": [
            "\n",
            "Answer: The name of the seller is Chapman, Kim and Green.\n",
            "==================================================\n",
            "Time to retrieve answer: 330.072997168\n"
          ]
        }
      ]
    },
    {
      "cell_type": "code",
      "source": [
        "383 / 60"
      ],
      "metadata": {
        "colab": {
          "base_uri": "https://localhost:8080/"
        },
        "id": "frju7mEfUSjp",
        "outputId": "db9b4411-ec04-4f3b-ed0f-8857119ecf4e"
      },
      "execution_count": 9,
      "outputs": [
        {
          "output_type": "execute_result",
          "data": {
            "text/plain": [
              "6.383333333333334"
            ]
          },
          "metadata": {},
          "execution_count": 9
        }
      ]
    },
    {
      "cell_type": "code",
      "source": [],
      "metadata": {
        "id": "AqAUSr5XQU2d"
      },
      "execution_count": null,
      "outputs": []
    }
  ]
}